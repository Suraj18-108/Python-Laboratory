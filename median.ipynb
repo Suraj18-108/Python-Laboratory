{
 "cells": [
  {
   "cell_type": "code",
   "execution_count": 65,
   "id": "2b2de539-c57d-4296-bc0f-80b822a36320",
   "metadata": {},
   "outputs": [
    {
     "name": "stdin",
     "output_type": "stream",
     "text": [
      " 6\n",
      " 1\n",
      " 2\n",
      " 3\n",
      " 4\n",
      " 5\n",
      " 6\n"
     ]
    },
    {
     "ename": "TypeError",
     "evalue": "unsupported operand type(s) for /: 'str' and 'int'",
     "output_type": "error",
     "traceback": [
      "\u001b[1;31m---------------------------------------------------------------------------\u001b[0m",
      "\u001b[1;31mTypeError\u001b[0m                                 Traceback (most recent call last)",
      "Cell \u001b[1;32mIn[65], line 12\u001b[0m\n\u001b[0;32m     10\u001b[0m     m\u001b[38;5;241m=\u001b[39ml[n\u001b[38;5;241m/\u001b[39m\u001b[38;5;241m/\u001b[39m\u001b[38;5;241m2\u001b[39m]\n\u001b[0;32m     11\u001b[0m \u001b[38;5;28;01melse\u001b[39;00m:\n\u001b[1;32m---> 12\u001b[0m     m\u001b[38;5;241m=\u001b[39m(l[n\u001b[38;5;241m/\u001b[39m\u001b[38;5;241m/\u001b[39m\u001b[38;5;241m2\u001b[39m\u001b[38;5;241m-\u001b[39m\u001b[38;5;241m1\u001b[39m] \u001b[38;5;241m+\u001b[39m l[n\u001b[38;5;241m/\u001b[39m\u001b[38;5;241m/\u001b[39m\u001b[38;5;241m2\u001b[39m])\u001b[38;5;241m/\u001b[39m\u001b[38;5;241m2\u001b[39m\n\u001b[0;32m     13\u001b[0m \u001b[38;5;28mprint\u001b[39m(m)\n",
      "\u001b[1;31mTypeError\u001b[0m: unsupported operand type(s) for /: 'str' and 'int'"
     ]
    }
   ],
   "source": [
    "n=int(input())\n",
    "l=[]\n",
    "for i in range(n):\n",
    "    a=input()\n",
    "    l.append(a)\n",
    "    l.sort()\n",
    "    \n",
    "n=len(l)\n",
    "if n%2==1:\n",
    "    m=l[n//2]\n",
    "else:\n",
    "    m=(l[n//2-1] + l[n//2])/2\n",
    "print(m) \n",
    "\n"
   ]
  },
  {
   "cell_type": "code",
   "execution_count": 25,
   "id": "005b438c-1ece-4e0a-a198-2b3d374747ac",
   "metadata": {},
   "outputs": [
    {
     "name": "stdout",
     "output_type": "stream",
     "text": [
      "Median: 4\n"
     ]
    }
   ],
   "source": [
    "def find_median(arr):\n",
    "    arr.sort()  # Step 1: Sort the array\n",
    "    n = len(arr)\n",
    "    \n",
    "    # Step 2: Find the middle element(s)\n",
    "    if n % 2 == 1:\n",
    "        median = arr[n // 2]  # If the number of elements is odd, take the middle element\n",
    "    else:\n",
    "        median = (arr[n // 2 - 1] + arr[n // 2]) / 2  # If even, take the average of the two middle elements\n",
    "    \n",
    "    return median\n",
    "\n",
    "# Example usage\n",
    "array = [7, 2, 10, 4, 3]\n",
    "print(\"Median:\", find_median(array))\n"
   ]
  },
  {
   "cell_type": "code",
   "execution_count": 49,
   "id": "e5540731-fba7-420b-bc7e-ff80972a330c",
   "metadata": {},
   "outputs": [
    {
     "name": "stdout",
     "output_type": "stream",
     "text": [
      "2.5\n",
      "2\n"
     ]
    }
   ],
   "source": [
    "n=5\n",
    "print(n/2)\n",
    "print(n//2)"
   ]
  },
  {
   "cell_type": "code",
   "execution_count": null,
   "id": "8d68633a-7400-4800-aff5-c5b3499df102",
   "metadata": {},
   "outputs": [],
   "source": []
  }
 ],
 "metadata": {
  "kernelspec": {
   "display_name": "Python 3 (ipykernel)",
   "language": "python",
   "name": "python3"
  },
  "language_info": {
   "codemirror_mode": {
    "name": "ipython",
    "version": 3
   },
   "file_extension": ".py",
   "mimetype": "text/x-python",
   "name": "python",
   "nbconvert_exporter": "python",
   "pygments_lexer": "ipython3",
   "version": "3.12.4"
  }
 },
 "nbformat": 4,
 "nbformat_minor": 5
}
