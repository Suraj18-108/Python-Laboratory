{
 "cells": [
  {
   "cell_type": "code",
   "execution_count": 29,
   "id": "cda50031-3067-4d73-ae3a-3c210e360c02",
   "metadata": {},
   "outputs": [
    {
     "name": "stdout",
     "output_type": "stream",
     "text": [
      "('taarak', 'jetha', 'daya', 'bhide', 'babita', 'taarak', 'jetha', 'daya', 'bhide', 'babita', 'taarak', 'jetha', 'daya', 'bhide', 'babita', 'taarak', 'jetha', 'daya', 'bhide', 'babita')\n"
     ]
    }
   ],
   "source": [
    "gokuldham=('taarak','jetha','daya','bhide','babita')\n",
    "v=gokuldham*2**2\n",
    "print(v)"
   ]
  },
  {
   "cell_type": "code",
   "execution_count": 27,
   "id": "3f9f6db2-1b69-4233-a4f1-cb60ec4be57f",
   "metadata": {},
   "outputs": [
    {
     "name": "stdin",
     "output_type": "stream",
     "text": [
      " 2\n",
      " 55\n"
     ]
    },
    {
     "name": "stdout",
     "output_type": "stream",
     "text": [
      "['55']\n"
     ]
    }
   ],
   "source": [
    "n=int(input())\n",
    "l=()\n",
    "for i in range (n):\n",
    "    b=5\n",
    "a=input()\n",
    "c=list(l)\n",
    "c.append(a)\n",
    "print(c)"
   ]
  },
  {
   "cell_type": "code",
   "execution_count": null,
   "id": "53b88e01-f3f2-4d70-a3d1-43c12b4b4f31",
   "metadata": {},
   "outputs": [],
   "source": [
    "a=int(input())\n",
    "n=tuple(map(int,input().split()))"
   ]
  }
 ],
 "metadata": {
  "kernelspec": {
   "display_name": "Python 3 (ipykernel)",
   "language": "python",
   "name": "python3"
  },
  "language_info": {
   "codemirror_mode": {
    "name": "ipython",
    "version": 3
   },
   "file_extension": ".py",
   "mimetype": "text/x-python",
   "name": "python",
   "nbconvert_exporter": "python",
   "pygments_lexer": "ipython3",
   "version": "3.12.4"
  }
 },
 "nbformat": 4,
 "nbformat_minor": 5
}
