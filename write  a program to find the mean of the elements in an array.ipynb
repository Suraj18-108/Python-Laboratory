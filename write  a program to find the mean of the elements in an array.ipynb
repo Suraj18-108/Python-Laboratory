{
 "cells": [
  {
   "cell_type": "code",
   "execution_count": 9,
   "id": "d3291536-6b6b-4760-8072-12a0e90054f4",
   "metadata": {},
   "outputs": [
    {
     "name": "stdin",
     "output_type": "stream",
     "text": [
      " 5\n",
      " 2\n",
      " 4\n",
      " 1\n",
      " 3\n",
      " 5\n"
     ]
    },
    {
     "ename": "TypeError",
     "evalue": "unsupported operand type(s) for +: 'int' and 'str'",
     "output_type": "error",
     "traceback": [
      "\u001b[1;31m---------------------------------------------------------------------------\u001b[0m",
      "\u001b[1;31mTypeError\u001b[0m                                 Traceback (most recent call last)",
      "Cell \u001b[1;32mIn[9], line 6\u001b[0m\n\u001b[0;32m      4\u001b[0m     b\u001b[38;5;241m=\u001b[39m\u001b[38;5;28minput\u001b[39m()\n\u001b[0;32m      5\u001b[0m     a\u001b[38;5;241m.\u001b[39mappend(b)\n\u001b[1;32m----> 6\u001b[0m z\u001b[38;5;241m=\u001b[39m\u001b[38;5;28msum\u001b[39m(a)\n\u001b[0;32m      7\u001b[0m y\u001b[38;5;241m=\u001b[39mz\u001b[38;5;241m/\u001b[39mn\n\u001b[0;32m      8\u001b[0m \u001b[38;5;28mprint\u001b[39m(y)\n",
      "\u001b[1;31mTypeError\u001b[0m: unsupported operand type(s) for +: 'int' and 'str'"
     ]
    }
   ],
   "source": [
    "n=int(input())    \n",
    "a=[]\n",
    "for i in range(n):\n",
    "    b=input()\n",
    "    a.append(b)\n",
    "z=sum(a)\n",
    "y=z/n\n",
    "print(y)\n",
    "\n"
   ]
  },
  {
   "cell_type": "code",
   "execution_count": null,
   "id": "16c5e58e-a369-47b1-a95b-d31fdd73ff68",
   "metadata": {},
   "outputs": [],
   "source": []
  }
 ],
 "metadata": {
  "kernelspec": {
   "display_name": "Python 3 (ipykernel)",
   "language": "python",
   "name": "python3"
  },
  "language_info": {
   "codemirror_mode": {
    "name": "ipython",
    "version": 3
   },
   "file_extension": ".py",
   "mimetype": "text/x-python",
   "name": "python",
   "nbconvert_exporter": "python",
   "pygments_lexer": "ipython3",
   "version": "3.12.4"
  }
 },
 "nbformat": 4,
 "nbformat_minor": 5
}
