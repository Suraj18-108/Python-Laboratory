{
 "cells": [
  {
   "cell_type": "code",
   "execution_count": 38,
   "id": "a1b0273f-c69c-4cc7-8336-9d4c398749d4",
   "metadata": {},
   "outputs": [
    {
     "name": "stdin",
     "output_type": "stream",
     "text": [
      " 5\n",
      " 5\n"
     ]
    },
    {
     "name": "stdout",
     "output_type": "stream",
     "text": [
      "prod of (5, 5) \n",
      "= 25\n"
     ]
    }
   ],
   "source": [
    "def prod(a,b):\n",
    "    result=a*b\n",
    "    return result\n",
    "r=int(input())\n",
    "s=int(input())\n",
    "print(f'prod of {r,s} \\n=',prod(r,s))"
   ]
  },
  {
   "cell_type": "code",
   "execution_count": 3,
   "id": "b16eb8af-436e-42b7-8a99-117c8d51b92f",
   "metadata": {},
   "outputs": [
    {
     "name": "stdout",
     "output_type": "stream",
     "text": [
      "{'A': 5, 'B': 10, 'C': 15, 'D': 20}\n"
     ]
    }
   ],
   "source": [
    "def diction(a,b):\n",
    "    return dict(zip(a,b))\n",
    "\n",
    "list1=['A','B','C','D']\n",
    "list2=[5,10,15,20]\n",
    "\n",
    "my_dictionary=diction(list1,list2)\n",
    "print(my_dictionary)\n"
   ]
  },
  {
   "cell_type": "code",
   "execution_count": 1,
   "id": "92c7d9c5-0eeb-4b4e-82f7-7d5aacd17ab8",
   "metadata": {},
   "outputs": [
    {
     "name": "stdout",
     "output_type": "stream",
     "text": [
      "Updated dictionary: {'A': 5, 'B': 10, 'C': 15, 'D': 20}\n"
     ]
    }
   ],
   "source": [
    "\n",
    "list1=['A','B','C','D']\n",
    "list2=[5,10,15,20]\n",
    "\n",
    "my_dict = {key: value for key, value in zip(list1, list2)}\n",
    "\n",
    "print(\"Updated dictionary:\", my_dict)\n"
   ]
  }
 ],
 "metadata": {
  "kernelspec": {
   "display_name": "Python 3 (ipykernel)",
   "language": "python",
   "name": "python3"
  },
  "language_info": {
   "codemirror_mode": {
    "name": "ipython",
    "version": 3
   },
   "file_extension": ".py",
   "mimetype": "text/x-python",
   "name": "python",
   "nbconvert_exporter": "python",
   "pygments_lexer": "ipython3",
   "version": "3.12.4"
  }
 },
 "nbformat": 4,
 "nbformat_minor": 5
}
