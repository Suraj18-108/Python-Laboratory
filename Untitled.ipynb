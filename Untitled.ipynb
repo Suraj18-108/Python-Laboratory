{
 "cells": [
  {
   "cell_type": "code",
   "execution_count": 45,
   "id": "4cd1f722-09cb-47d8-9d81-164434c10d5c",
   "metadata": {},
   "outputs": [
    {
     "name": "stdin",
     "output_type": "stream",
     "text": [
      "The Seating Capacity of L1 :  23154\n",
      "The Seating Capacity of L2 :  25648\n",
      "The Seating Capacity of L3 :  65246\n"
     ]
    },
    {
     "name": "stdout",
     "output_type": "stream",
     "text": [
      "L1\n"
     ]
    }
   ],
   "source": [
    "x=int(input('The Seating Capacity of L1 : '))\n",
    "y=int(input('The Seating Capacity of L2 : '))\n",
    "z=int(input('The Seating Capacity of L3 : '))\n",
    "if z>y and y>x:\n",
    "    print('L1')\n",
    "elif z>x and x>y:\n",
    "    print('L2')\n",
    "elif y>x and x>z:\n",
    "    print(\"L3\")\n",
    "\n"
   ]
  },
  {
   "cell_type": "code",
   "execution_count": 77,
   "id": "09b49005-da4a-43af-b6b5-1c22f55221c8",
   "metadata": {},
   "outputs": [
    {
     "name": "stdin",
     "output_type": "stream",
     "text": [
      "The Seating Capacity of L1 :  200\n",
      "The Seating Capacity of L2 :  300\n",
      "The Seating Capacity of L3 :  400\n",
      "The Number of Students :  350\n"
     ]
    },
    {
     "name": "stdout",
     "output_type": "stream",
     "text": [
      "!!!!!!!!!!!1\n"
     ]
    }
   ],
   "source": [
    "x=int(input('The Seating Capacity of L1 : '))\n",
    "y=int(input('The Seating Capacity of L2 : '))\n",
    "z=int(input('The Seating Capacity of L3 : '))\n",
    "n=int(input('The Number of Students : '))\n",
    "if n>x and n>y and n>z:\n",
    "    print('0')\n",
    "elif n<=x and n>=y and n>=z:\n",
    "    print('1')\n",
    "elif n<=x and n<=y and n>=z:\n",
    "    print('2')\n",
    "elif n<=x and n<=y and n<=z:\n",
    "    print('3')  \n",
    "else:\n",
    "    print('!!!!!!!!!!!1')\n",
    "    "
   ]
  },
  {
   "cell_type": "code",
   "execution_count": 126,
   "id": "a3d285b4-46a6-466b-a6ee-cb602640d63c",
   "metadata": {},
   "outputs": [
    {
     "name": "stdin",
     "output_type": "stream",
     "text": [
      "The Seating Capacity of L1 :  987654321\n",
      "The Seating Capacity of L2 :  123456789\n",
      "The Seating Capacity of L3 :  655369874\n",
      "The Number of Students :  256314789\n"
     ]
    },
    {
     "name": "stdout",
     "output_type": "stream",
     "text": [
      "2\n"
     ]
    }
   ],
   "source": [
    "x=int(input('The Seating Capacity of L1 : '))\n",
    "y=int(input('The Seating Capacity of L2 : '))\n",
    "z=int(input('The Seating Capacity of L3 : '))\n",
    "n=int(input('The Number of Students : '))\n",
    "if n>x and n>y and n>z:\n",
    "    print('0')\n",
    "elif n<x and n>y and n>z or n>x and n<y and n>z or n>x and n>y and n<z:\n",
    "    print('1')\n",
    "elif n<x and n<y and n>z or n>x and n<y and n<z or n<x and n>y and n<z:\n",
    "    print('2')\n",
    "elif x<n and y<n and z<n:\n",
    "    print('3')\n",
    "elif x==n and y==n and z==n:\n",
    "    print('3')\n",
    "elif x==n and y==n or x==n and z==n or y==n and z==n:\n",
    "    print('2')\n",
    "elif x==n or y==n or z==n:\n",
    "    print('1')\n",
    "else:\n",
    "    print('!!!!!!!!!!!')\n",
    "    \n",
    "    \n",
    "    "
   ]
  },
  {
   "cell_type": "code",
   "execution_count": null,
   "id": "155027f2-19ed-41e3-af1b-4d4929f3ed2b",
   "metadata": {},
   "outputs": [],
   "source": []
  }
 ],
 "metadata": {
  "kernelspec": {
   "display_name": "Python 3 (ipykernel)",
   "language": "python",
   "name": "python3"
  },
  "language_info": {
   "codemirror_mode": {
    "name": "ipython",
    "version": 3
   },
   "file_extension": ".py",
   "mimetype": "text/x-python",
   "name": "python",
   "nbconvert_exporter": "python",
   "pygments_lexer": "ipython3",
   "version": "3.12.4"
  }
 },
 "nbformat": 4,
 "nbformat_minor": 5
}
