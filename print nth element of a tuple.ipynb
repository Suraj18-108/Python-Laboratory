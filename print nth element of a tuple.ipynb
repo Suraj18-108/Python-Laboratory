{
 "cells": [
  {
   "cell_type": "code",
   "execution_count": 41,
   "id": "d477a919-b774-4c78-adeb-99911c83f6eb",
   "metadata": {},
   "outputs": [
    {
     "name": "stdin",
     "output_type": "stream",
     "text": [
      " faceprep\n"
     ]
    },
    {
     "name": "stdout",
     "output_type": "stream",
     "text": [
      "e\n",
      "p\n"
     ]
    }
   ],
   "source": [
    "a=[]\n",
    "for i in range(1):\n",
    "    b=input()\n",
    "    a.extend(b)\n",
    "    c=tuple(a)\n",
    "print(c[3])\n",
    "print(c[-4])\n"
   ]
  },
  {
   "cell_type": "code",
   "execution_count": null,
   "id": "fabbe073-0c6c-41f0-a48a-64c4f4399c1f",
   "metadata": {},
   "outputs": [],
   "source": [
    "a=()\n",
    "for i in range(1):\n",
    "    b=list(a)\n",
    "    c=input()\n",
    "    b.extend(c)\n",
    "    \n",
    "    "
   ]
  }
 ],
 "metadata": {
  "kernelspec": {
   "display_name": "Python 3 (ipykernel)",
   "language": "python",
   "name": "python3"
  },
  "language_info": {
   "codemirror_mode": {
    "name": "ipython",
    "version": 3
   },
   "file_extension": ".py",
   "mimetype": "text/x-python",
   "name": "python",
   "nbconvert_exporter": "python",
   "pygments_lexer": "ipython3",
   "version": "3.12.4"
  }
 },
 "nbformat": 4,
 "nbformat_minor": 5
}
