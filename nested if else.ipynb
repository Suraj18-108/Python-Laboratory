{
 "cells": [
  {
   "cell_type": "code",
   "execution_count": 23,
   "id": "758de062-79c6-4a11-b6ff-1f473867ee35",
   "metadata": {},
   "outputs": [
    {
     "name": "stdin",
     "output_type": "stream",
     "text": [
      "enter a number: 65\n"
     ]
    },
    {
     "name": "stdout",
     "output_type": "stream",
     "text": [
      "the num is btw 50 and 75\n"
     ]
    }
   ],
   "source": [
    "a=int(input(\"enter a number:\"))\n",
    "if a>75 and a<100:\n",
    "    print(\"the num is btw 75 and 100\")\n",
    "else:\n",
    "    if a>50 and a<75:\n",
    "        print(\"the num is btw 50 and 75\")\n",
    "    else:\n",
    "        if a>25 and a<50:\n",
    "            print(\"the num is btw 25 and 50\")\n",
    "        else:\n",
    "            if a>0 and a<25:\n",
    "                print(\"the num btw 0 and 25\") \n",
    "            else:    \n",
    "                  print(\"the number is negative\")"
   ]
  },
  {
   "cell_type": "code",
   "execution_count": null,
   "id": "556170d1-e87b-4795-87ac-fcb5477ef800",
   "metadata": {},
   "outputs": [],
   "source": []
  }
 ],
 "metadata": {
  "kernelspec": {
   "display_name": "Python 3 (ipykernel)",
   "language": "python",
   "name": "python3"
  },
  "language_info": {
   "codemirror_mode": {
    "name": "ipython",
    "version": 3
   },
   "file_extension": ".py",
   "mimetype": "text/x-python",
   "name": "python",
   "nbconvert_exporter": "python",
   "pygments_lexer": "ipython3",
   "version": "3.12.4"
  }
 },
 "nbformat": 4,
 "nbformat_minor": 5
}
