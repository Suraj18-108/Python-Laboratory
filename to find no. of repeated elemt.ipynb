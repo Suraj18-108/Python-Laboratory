{
 "cells": [
  {
   "cell_type": "code",
   "execution_count": 31,
   "id": "37638d67-6a1c-4587-8d96-9d04a58fdadb",
   "metadata": {},
   "outputs": [
    {
     "name": "stdin",
     "output_type": "stream",
     "text": [
      "  2,4,5,6,2,3,4,4,7\n",
      " 4\n"
     ]
    },
    {
     "name": "stdout",
     "output_type": "stream",
     "text": [
      "3\n"
     ]
    }
   ],
   "source": [
    "a=[]\n",
    "for i in range(1):\n",
    "    b=input()\n",
    "    a.extend(b)\n",
    "    c=tuple(a)\n",
    "    inj=input()\n",
    "if inj in c:\n",
    "    d=c.count(inj)\n",
    "print(d)\n",
    "\n",
    "    "
   ]
  },
  {
   "cell_type": "code",
   "execution_count": null,
   "id": "b6e13063-9b74-43f1-a294-096c4888ddb4",
   "metadata": {},
   "outputs": [],
   "source": []
  }
 ],
 "metadata": {
  "kernelspec": {
   "display_name": "Python 3 (ipykernel)",
   "language": "python",
   "name": "python3"
  },
  "language_info": {
   "codemirror_mode": {
    "name": "ipython",
    "version": 3
   },
   "file_extension": ".py",
   "mimetype": "text/x-python",
   "name": "python",
   "nbconvert_exporter": "python",
   "pygments_lexer": "ipython3",
   "version": "3.12.4"
  }
 },
 "nbformat": 4,
 "nbformat_minor": 5
}
