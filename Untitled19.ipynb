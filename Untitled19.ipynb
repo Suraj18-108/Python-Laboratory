{
 "cells": [
  {
   "cell_type": "code",
   "execution_count": 13,
   "id": "a4763551-980e-49e3-a8bf-cfc730f6270c",
   "metadata": {},
   "outputs": [
    {
     "name": "stdin",
     "output_type": "stream",
     "text": [
      " ijh\n"
     ]
    },
    {
     "name": "stdout",
     "output_type": "stream",
     "text": [
      "Cannot convert '{s}' to an integer.\n",
      "None\n"
     ]
    }
   ],
   "source": [
    "def convert_to_int(s):\n",
    "    try:\n",
    "        return int(s)\n",
    "    except ValueError:\n",
    "        print(\"Cannot convert '{s}' to an integer.\")\n",
    "\n",
    "s=input()\n",
    "\n",
    "# Test with valid and invalid inputs\n",
    "print(convert_to_int(s))  # Output: 123\n",
    "       # Output: Cannot convert 'abc' to an integer.\n"
   ]
  },
  {
   "cell_type": "code",
   "execution_count": 22,
   "id": "33d5dbeb-0632-453d-bb6e-232b25cb3860",
   "metadata": {},
   "outputs": [
    {
     "name": "stdout",
     "output_type": "stream",
     "text": [
      "Hello, my name is Alice and I am 30 years old.\n"
     ]
    }
   ],
   "source": [
    "name = \"Alice\"\n",
    "age = 30\n",
    "\n",
    "# Using an f-string\n",
    "greeting = f\"Hello, my name is {name} and I am {age} years old.\"\n",
    "print(greeting)\n",
    "\n"
   ]
  },
  {
   "cell_type": "code",
   "execution_count": 56,
   "id": "731f10e3-ef3c-4d0e-a284-341ba9e25922",
   "metadata": {},
   "outputs": [
    {
     "name": "stdin",
     "output_type": "stream",
     "text": [
      " 65\n"
     ]
    },
    {
     "name": "stdout",
     "output_type": "stream",
     "text": [
      "13274.95\n"
     ]
    }
   ],
   "source": [
    "radius=int(input())\n",
    "pi=3.142\n",
    "a=pi*radius*radius\n",
    "area=f\"{a:.2f}\"\n",
    "print(area)"
   ]
  },
  {
   "cell_type": "code",
   "execution_count": 46,
   "id": "39a9a0be-e943-4b54-b839-e8a5c4b58208",
   "metadata": {},
   "outputs": [
    {
     "name": "stdout",
     "output_type": "stream",
     "text": [
      "9.872164\n"
     ]
    }
   ],
   "source": [
    "a=3.142**2\n",
    "print(a)"
   ]
  },
  {
   "cell_type": "code",
   "execution_count": 70,
   "id": "0614b343-d7fc-4312-88f5-8bdface7a7bd",
   "metadata": {},
   "outputs": [
    {
     "name": "stdin",
     "output_type": "stream",
     "text": [
      " suraj\n"
     ]
    },
    {
     "name": "stdout",
     "output_type": "stream",
     "text": [
      "Cannot Convert \" suraj \"\n"
     ]
    }
   ],
   "source": [
    "s=input()\n",
    "try:\n",
    "    print(int(s))\n",
    "except ValueError:\n",
    "    print('Cannot Convert','\"',s,'\"')"
   ]
  },
  {
   "cell_type": "code",
   "execution_count": null,
   "id": "4d654edb-ccb2-4924-974e-b9097d5141c0",
   "metadata": {},
   "outputs": [],
   "source": []
  }
 ],
 "metadata": {
  "kernelspec": {
   "display_name": "Python 3 (ipykernel)",
   "language": "python",
   "name": "python3"
  },
  "language_info": {
   "codemirror_mode": {
    "name": "ipython",
    "version": 3
   },
   "file_extension": ".py",
   "mimetype": "text/x-python",
   "name": "python",
   "nbconvert_exporter": "python",
   "pygments_lexer": "ipython3",
   "version": "3.12.4"
  }
 },
 "nbformat": 4,
 "nbformat_minor": 5
}
