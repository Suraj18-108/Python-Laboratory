{
 "cells": [
  {
   "cell_type": "code",
   "execution_count": null,
   "id": "2c85c3a1-0944-4985-84e9-22e60d1791fc",
   "metadata": {},
   "outputs": [
    {
     "name": "stdout",
     "output_type": "stream",
     "text": [
      "Enter elemnts and press enter when completed\n"
     ]
    },
    {
     "name": "stdin",
     "output_type": "stream",
     "text": [
      "Enter 5\n",
      "Enter 56\n",
      "Enter 4\n",
      "Enter 4\n"
     ]
    }
   ],
   "source": [
    "a=[]\n",
    "print(\"Enter elemnts and press enter when completed\")\n",
    "while True:\n",
    "    user=input('Enter')\n",
    "    if user.lower()=='' :\n",
    "        break\n",
    "    try:\n",
    "        user=int(user)\n",
    "        a.append(user)\n",
    "    except ValueError:\n",
    "        print('INVALID!!')\n",
    "\n",
    "sumoflist=sum(a)\n",
    "    \n",
    "\n",
    "print('list: ',a)\n",
    "print('sum of list:',sumoflist)\n",
    "\n",
    "    "
   ]
  },
  {
   "cell_type": "code",
   "execution_count": 95,
   "id": "6724eca9-370e-4add-8d90-12afb92d809c",
   "metadata": {},
   "outputs": [
    {
     "name": "stdin",
     "output_type": "stream",
     "text": [
      "No. of elements 2\n",
      " 12\n",
      " 36\n"
     ]
    },
    {
     "name": "stdout",
     "output_type": "stream",
     "text": [
      "Sum of list :  48\n"
     ]
    }
   ],
   "source": [
    "a=[]\n",
    "n=int(input('No. of elements'))\n",
    "for i in range(n):\n",
    "    b=int(input())\n",
    "    a.append(b)\n",
    "\n",
    "print('Sum of list : ',sum(a))\n",
    "    "
   ]
  },
  {
   "cell_type": "code",
   "execution_count": null,
   "id": "95f8db21-99a4-409e-abed-bb97257ed3a6",
   "metadata": {},
   "outputs": [],
   "source": []
  }
 ],
 "metadata": {
  "kernelspec": {
   "display_name": "Python 3 (ipykernel)",
   "language": "python",
   "name": "python3"
  },
  "language_info": {
   "codemirror_mode": {
    "name": "ipython",
    "version": 3
   },
   "file_extension": ".py",
   "mimetype": "text/x-python",
   "name": "python",
   "nbconvert_exporter": "python",
   "pygments_lexer": "ipython3",
   "version": "3.12.4"
  }
 },
 "nbformat": 4,
 "nbformat_minor": 5
}
