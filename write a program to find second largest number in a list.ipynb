{
 "cells": [
  {
   "cell_type": "code",
   "execution_count": 1,
   "id": "be1865fb-46fb-46e7-b0fa-bf0e7b1a9865",
   "metadata": {},
   "outputs": [
    {
     "name": "stdin",
     "output_type": "stream",
     "text": [
      " 4\n",
      " 23\n",
      " 56\n",
      " 39\n",
      " 11\n"
     ]
    },
    {
     "name": "stdout",
     "output_type": "stream",
     "text": [
      "39\n"
     ]
    }
   ],
   "source": [
    "n=int(input())    \n",
    "a=[]\n",
    "for i in range(n):\n",
    "    b=input()\n",
    "    a.append(b)\n",
    "d=max(a)\n",
    "a.remove(d)\n",
    "print(max(a))n=int(input())    \n",
    "    "
   ]
  },
  {
   "cell_type": "code",
   "execution_count": 5,
   "id": "4114849c-79ef-4317-8b03-f4b63c3b211a",
   "metadata": {},
   "outputs": [
    {
     "name": "stdin",
     "output_type": "stream",
     "text": [
      " 4\n",
      " 23\n",
      " 56\n",
      " 39\n",
      " 11\n"
     ]
    },
    {
     "name": "stdout",
     "output_type": "stream",
     "text": [
      "39\n"
     ]
    }
   ],
   "source": [
    "n=int(input())    \n",
    "a=[]\n",
    "for i in range(n):\n",
    "    b=input()\n",
    "    a.append(b)\n",
    "a.sort(reverse=True)\n",
    "print(a[1])\n",
    "\n",
    "    "
   ]
  },
  {
   "cell_type": "code",
   "execution_count": null,
   "id": "ad2bfb88-97e6-4e25-8bfa-55883c66d51c",
   "metadata": {},
   "outputs": [],
   "source": []
  }
 ],
 "metadata": {
  "kernelspec": {
   "display_name": "Python 3 (ipykernel)",
   "language": "python",
   "name": "python3"
  },
  "language_info": {
   "codemirror_mode": {
    "name": "ipython",
    "version": 3
   },
   "file_extension": ".py",
   "mimetype": "text/x-python",
   "name": "python",
   "nbconvert_exporter": "python",
   "pygments_lexer": "ipython3",
   "version": "3.12.4"
  }
 },
 "nbformat": 4,
 "nbformat_minor": 5
}
