{
 "cells": [
  {
   "cell_type": "code",
   "execution_count": 6,
   "id": "bb7844ca-14f3-4575-a933-a0467a9bf7a4",
   "metadata": {},
   "outputs": [
    {
     "name": "stdin",
     "output_type": "stream",
     "text": [
      " face pre\n",
      " p\n"
     ]
    },
    {
     "name": "stdout",
     "output_type": "stream",
     "text": [
      "('f', 'a', 'c', 'e', ' ', 'p', 'r', 'e', 'p')\n"
     ]
    }
   ],
   "source": [
    "a=[]\n",
    "for i in range(1):\n",
    "    b=input()\n",
    "    c=input()\n",
    "    a.extend(b)\n",
    "    a.insert(8,c)\n",
    "    t=tuple(a)\n",
    "print(t)    "
   ]
  },
  {
   "cell_type": "code",
   "execution_count": null,
   "id": "60f1facf-3108-4a49-8ab3-7379e91449b0",
   "metadata": {},
   "outputs": [],
   "source": []
  }
 ],
 "metadata": {
  "kernelspec": {
   "display_name": "Python 3 (ipykernel)",
   "language": "python",
   "name": "python3"
  },
  "language_info": {
   "codemirror_mode": {
    "name": "ipython",
    "version": 3
   },
   "file_extension": ".py",
   "mimetype": "text/x-python",
   "name": "python",
   "nbconvert_exporter": "python",
   "pygments_lexer": "ipython3",
   "version": "3.12.4"
  }
 },
 "nbformat": 4,
 "nbformat_minor": 5
}
