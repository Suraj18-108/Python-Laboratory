{
 "cells": [
  {
   "cell_type": "code",
   "execution_count": 4,
   "id": "bb7844ca-14f3-4575-a933-a0467a9bf7a4",
   "metadata": {},
   "outputs": [
    {
     "name": "stdin",
     "output_type": "stream",
     "text": [
      " face pre\n",
      " p\n"
     ]
    },
    {
     "ename": "TypeError",
     "evalue": "'str' object cannot be interpreted as an integer",
     "output_type": "error",
     "traceback": [
      "\u001b[1;31m---------------------------------------------------------------------------\u001b[0m",
      "\u001b[1;31mTypeError\u001b[0m                                 Traceback (most recent call last)",
      "Cell \u001b[1;32mIn[4], line 6\u001b[0m\n\u001b[0;32m      4\u001b[0m     c\u001b[38;5;241m=\u001b[39m\u001b[38;5;28minput\u001b[39m()\n\u001b[0;32m      5\u001b[0m     a\u001b[38;5;241m.\u001b[39mextend(b)\n\u001b[1;32m----> 6\u001b[0m     a\u001b[38;5;241m.\u001b[39minsert(c,\u001b[38;5;241m8\u001b[39m)\n\u001b[0;32m      7\u001b[0m     t\u001b[38;5;241m=\u001b[39m\u001b[38;5;28mtuple\u001b[39m(a)\n\u001b[0;32m      8\u001b[0m \u001b[38;5;28mprint\u001b[39m(t)\n",
      "\u001b[1;31mTypeError\u001b[0m: 'str' object cannot be interpreted as an integer"
     ]
    }
   ],
   "source": [
    "a=[]\n",
    "for i in range(1):\n",
    "    b=input()\n",
    "    c=input()\n",
    "    a.extend(b)\n",
    "    a.insert(c,8)\n",
    "    t=tuple(a)\n",
    "print(t)    "
   ]
  },
  {
   "cell_type": "code",
   "execution_count": null,
   "id": "8f264820-4dee-42f3-976d-83cf3e1482ed",
   "metadata": {},
   "outputs": [],
   "source": []
  }
 ],
 "metadata": {
  "kernelspec": {
   "display_name": "Python 3 (ipykernel)",
   "language": "python",
   "name": "python3"
  },
  "language_info": {
   "codemirror_mode": {
    "name": "ipython",
    "version": 3
   },
   "file_extension": ".py",
   "mimetype": "text/x-python",
   "name": "python",
   "nbconvert_exporter": "python",
   "pygments_lexer": "ipython3",
   "version": "3.12.4"
  }
 },
 "nbformat": 4,
 "nbformat_minor": 5
}
