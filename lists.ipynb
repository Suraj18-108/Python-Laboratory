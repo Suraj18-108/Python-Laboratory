{
 "cells": [
  {
   "cell_type": "code",
   "execution_count": 10,
   "id": "6ab7af6b-96af-4b62-ab39-c224b7829bb7",
   "metadata": {},
   "outputs": [
    {
     "name": "stdout",
     "output_type": "stream",
     "text": [
      "[10, 20, 30, 40]\n",
      "10\n",
      "20\n",
      "30\n",
      "40\n",
      "10 30\n",
      "20 30\n",
      "30 30\n",
      "40 30\n"
     ]
    }
   ],
   "source": [
    "a=[10,20,30,40]\n",
    "print(a)\n",
    "for i in a:\n",
    "    print(i)\n",
    "\n",
    "for i in a:\n",
    "    print(i,end=' ')\n",
    "\n",
    "    s=a[2]\n",
    "    print(s)\n"
   ]
  },
  {
   "cell_type": "code",
   "execution_count": 29,
   "id": "2cba9c86-45d3-4633-92a8-02e1240b3c05",
   "metadata": {},
   "outputs": [
    {
     "name": "stdout",
     "output_type": "stream",
     "text": [
      "6\n",
      "72\n"
     ]
    }
   ],
   "source": [
    "b=[10,12,18,24,36,48,56,72]\n",
    "print(b.index(56))\n",
    "print(b[-1])"
   ]
  },
  {
   "cell_type": "code",
   "execution_count": 31,
   "id": "cf2a46c8-34c6-41b6-90ac-59b243bc8acb",
   "metadata": {},
   "outputs": [
    {
     "name": "stdout",
     "output_type": "stream",
     "text": [
      "['vought', 'homelander', 'a-train', 'hughie', 'butcher', 'M.M', 'Frenchie', 'stillwell', 'victoria neumann']\n",
      "a-train\n",
      "['vought', 'homelander', 'a-train', '23', 'butcher', 'M.M', 'Frenchie', 'stillwell', 'victoria neumann']\n",
      "['vought', 'homelander', 'a-train', '23', 'butcher', 'M.M', 'Frenchie', 'stillwell', 'victoria neumann', 'ETHAN HUNT', ['THE BOYS', 'Vampire Diaries']]\n",
      "['vought', 'homelander', 'a-train', '23', 'butcher', 'M.M', 'Frenchie', 'stillwell', 'victoria neumann', 'ETHAN HUNT']\n"
     ]
    }
   ],
   "source": [
    "c=['vought','homelander','a-train','hughie','butcher','M.M','Frenchie','stillwell','victoria neumann']\n",
    "print(c)\n",
    "d=['THE BOYS','Vampire Diaries']\n",
    "print(c[2])\n",
    "c[3]='23'\n",
    "print(c)\n",
    "c.append('ETHAN HUNT')\n",
    "c.append(d)\n",
    "print(c)\n",
    "c.remove(d)\n",
    "print(c)\n",
    "c[8]\n",
    "c.append(12)"
   ]
  },
  {
   "cell_type": "code",
   "execution_count": 32,
   "id": "d02a26b3-f28a-431d-a6f2-c777baa03321",
   "metadata": {},
   "outputs": [
    {
     "name": "stdout",
     "output_type": "stream",
     "text": [
      "['Jetha', 70, 'Daya', 1000, 'Bapuji', 10, 'Bhide', 7, 'popatlal', 2.5, 'G', 'O', 'K', 'U', 'L', 'D', 'H', 'A', 'M']\n",
      "['Jetha', 70, 'Daya', 1000]\n",
      "['Jetha', 70, 'Daya', 1000, 'Bapuji', 10, 'Bhide', 7]\n",
      "['Jetha', 70]\n",
      "['Jetha', 70, 'Daya']\n",
      "[70, 'Daya', 1000, 'Bapuji', 10, 'Bhide', 7, 'popatlal', 2.5, 'G', 'O', 'K', 'U', 'L', 'D', 'H', 'A', 'M']\n",
      "Jetha\n",
      "70\n",
      "Daya\n",
      "1000\n",
      "Bapuji\n",
      "10\n",
      "Bhide\n",
      "7\n",
      "popatlal\n",
      "2.5\n",
      "G\n",
      "O\n",
      "K\n",
      "U\n",
      "L\n",
      "D\n",
      "H\n",
      "A\n",
      "M\n",
      "['Jetha', 1000, 'Bhide']\n"
     ]
    }
   ],
   "source": [
    "info=['Jetha',70,'Daya',1000,'Bapuji',10,'Bhide',420,'popatlal',2.5]\n",
    "info[7]=7\n",
    "a=3\n",
    "info+='GOKULDHAM'\n",
    "print(info)\n",
    "print(info[0:8//2])\n",
    "print(info[0:4*2])\n",
    "print(info[0:5%3])\n",
    "print(info[0:a])\n",
    "print(info[1:])\n",
    "for i in info:\n",
    "    print(i)\n",
    "print(info[0:7:3])\n"
   ]
  },
  {
   "cell_type": "code",
   "execution_count": 56,
   "id": "7a13ba6c-35b2-4d07-b935-639f7d8a35aa",
   "metadata": {},
   "outputs": [
    {
     "name": "stdout",
     "output_type": "stream",
     "text": [
      "[2, 'STU', 8.58, 'Female', 'India', '9876543210']\n",
      "2\n",
      "STU\n",
      "8.58\n",
      "Female\n",
      "India\n",
      "9876543210\n",
      "9876543210 8.58\n",
      "[2, 8.58, 'India']\n"
     ]
    }
   ],
   "source": [
    "kb=[2,'STU',8.58,'Female','India','9876543210']\n",
    "print(kb)\n",
    "for j in kb:\n",
    "    print(j)\n",
    "print(kb[-1],kb[2])  \n",
    "print(kb[0:5:2])"
   ]
  },
  {
   "cell_type": "code",
   "execution_count": 23,
   "id": "27554e38-a668-4355-8db4-96767e24bdcc",
   "metadata": {},
   "outputs": [
    {
     "name": "stdout",
     "output_type": "stream",
     "text": [
      "[1, 2, 3, 4, 5, 6, 7, 8, 9, 10]\n",
      "odd N 1\n",
      "odd N 3\n",
      "odd N 5\n",
      "odd N 7\n",
      "odd N 9\n",
      "even N 2\n",
      "even N 4\n",
      "even N 6\n",
      "even N 8\n",
      "even N 10\n"
     ]
    }
   ],
   "source": [
    "lisa=list(range(1,11))\n",
    "print(lisa)\n",
    "odd=lisa[::2]\n",
    "for i in odd:\n",
    "    print('odd N',i)\n",
    "    \n",
    "even =lisa[1::2]\n",
    "for j in even:\n",
    "    print('even N',j)"
   ]
  },
  {
   "cell_type": "code",
   "execution_count": 29,
   "id": "b1335b94-36c8-4437-a61f-99a8203c6e3d",
   "metadata": {},
   "outputs": [
    {
     "name": "stdin",
     "output_type": "stream",
     "text": [
      " suraj\n"
     ]
    },
    {
     "name": "stdout",
     "output_type": "stream",
     "text": [
      "['s', 'u', 'r', 'a', 'j']\n"
     ]
    }
   ],
   "source": [
    "s=input()\n",
    "liss=list(s)\n",
    "print(liss)\n"
   ]
  },
  {
   "cell_type": "code",
   "execution_count": 51,
   "id": "db824d02-5dc5-4846-a13a-1e6f0fc6f79c",
   "metadata": {},
   "outputs": [
    {
     "name": "stdout",
     "output_type": "stream",
     "text": [
      "['vought', 'homelander', 'a-train', 'hughie', 'butcher', 'M.M', 'Frenchie', 'stillwell', 'victoria neumann']\n",
      "a-train\n",
      "['vought', 'homelander', 'a-train', '23', 'butcher', 'M.M', 'Frenchie', 'stillwell', 'victoria neumann']\n",
      "['vought', 'homelander', 'a-train', '23', 'butcher', 'M.M', 'Frenchie', 'stillwell', 'victoria neumann', 'ETHAN HUNT', ['THE BOYS', 'Vampire Diaries']]\n",
      "['vought', 'homelander', 'a-train', '23', 'butcher', 'M.M', 'Frenchie', 'stillwell', 'victoria neumann', 'ETHAN HUNT']\n",
      "['vought', 'homelander', 'a-train', '23', 'butcher', 'M.M', 'Frenchie', 'stillwell', 'victoria neumann', 'ETHAN HUNT', 12, 'THE BOYS', 'Vampire Diaries', '1', '2', 's', 'r', 'sr']\n"
     ]
    }
   ],
   "source": [
    "c=['vought','homelander','a-train','hughie','butcher','M.M','Frenchie','stillwell','victoria neumann']\n",
    "print(c)\n",
    "d=['THE BOYS','Vampire Diaries']\n",
    "print(c[2])\n",
    "c[3]='23'\n",
    "print(c)\n",
    "c.append('ETHAN HUNT')\n",
    "c.append(d)\n",
    "print(c)\n",
    "c.remove(d)\n",
    "print(c)\n",
    "c[8]\n",
    "c.append(12)\n",
    "c.extend(d)\n",
    "c.extend('12')\n",
    "af='sr'\n",
    "c.extend(af)\n",
    "c.append(af)\n",
    "print(c)"
   ]
  },
  {
   "cell_type": "code",
   "execution_count": 19,
   "id": "eb6c03eb-2de7-48f3-afec-927542285f58",
   "metadata": {},
   "outputs": [
    {
     "name": "stdout",
     "output_type": "stream",
     "text": [
      "[12, 52, 420, 55, 698, 8]\n",
      "[698, 420, 55, 52, 12, 8]\n",
      "[698, 420, 55, 52, 12, 8]\n",
      "6\n",
      "207.5\n"
     ]
    }
   ],
   "source": [
    "vought=[12,52,55,698,8]\n",
    "vought.insert(2,420)\n",
    "print(vought)\n",
    "vought.sort(reverse=True)\n",
    "print(vought)\n",
    "print(vought)\n",
    "print(len(vought))\n",
    "mean=sum(vought)/len(vought)\n",
    "print(mean)"
   ]
  },
  {
   "cell_type": "code",
   "execution_count": 44,
   "id": "97f8dc97-2573-48ea-b8bf-4a05dd2474b0",
   "metadata": {},
   "outputs": [
    {
     "name": "stdin",
     "output_type": "stream",
     "text": [
      " 2\n",
      " 12 'mk' 25 55\n"
     ]
    },
    {
     "name": "stdout",
     "output_type": "stream",
     "text": [
      "[\"12 'mk' 25 55\"]\n"
     ]
    },
    {
     "name": "stdin",
     "output_type": "stream",
     "text": [
      " ijgy jghf hg jhgf \n"
     ]
    },
    {
     "name": "stdout",
     "output_type": "stream",
     "text": [
      "[\"12 'mk' 25 55\", 'ijgy jghf hg jhgf ']\n"
     ]
    }
   ],
   "source": [
    "a=int(input())\n",
    "n=[]\n",
    "for i in range(a):\n",
    "    x=input()\n",
    "    n.append(x)\n",
    "    print(n)"
   ]
  },
  {
   "cell_type": "code",
   "execution_count": null,
   "id": "4a1ae093-998e-411d-add8-ae95fd30816f",
   "metadata": {},
   "outputs": [],
   "source": [
    "n=int(input())\n",
    "l=[]\n",
    "for i in range(n):\n",
    "    a=int(input())\n",
    "    l.append(a)\n",
    "c=[]\n",
    "d=[]\n",
    "for i in l:\n",
    "    if(i%2==0):\n",
    "        c.append(i)\n",
    "    else:\n",
    "        d.append(i)\n",
    "c.sort(reverse=True)\n",
    "d.sort(reverse=True)\n",
    "print('largest even no.  ',c[0])\n",
    "print('largest odd no.   ',d[0])\n"
   ]
  },
  {
   "cell_type": "code",
   "execution_count": null,
   "id": "a87dc731-062d-4dc0-8e3b-a43f016d7489",
   "metadata": {},
   "outputs": [],
   "source": [
    "a=['homelander','atrain',420,'starlight',"
   ]
  }
 ],
 "metadata": {
  "kernelspec": {
   "display_name": "Python 3 (ipykernel)",
   "language": "python",
   "name": "python3"
  },
  "language_info": {
   "codemirror_mode": {
    "name": "ipython",
    "version": 3
   },
   "file_extension": ".py",
   "mimetype": "text/x-python",
   "name": "python",
   "nbconvert_exporter": "python",
   "pygments_lexer": "ipython3",
   "version": "3.12.4"
  }
 },
 "nbformat": 4,
 "nbformat_minor": 5
}
